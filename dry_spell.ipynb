{
 "cells": [
  {
   "cell_type": "markdown",
   "id": "98c06b2a",
   "metadata": {},
   "source": [
    "# Dry Spell Function for Undergrad Project Students"
   ]
  },
  {
   "cell_type": "code",
   "execution_count": null,
   "id": "89d46ea6",
   "metadata": {},
   "outputs": [],
   "source": [
    "import xarray as xr\n",
    "from warnings import filterwarnings\n",
    "filterwarnings('ignore')"
   ]
  },
  {
   "cell_type": "code",
   "execution_count": null,
   "id": "9722e48e",
   "metadata": {},
   "outputs": [],
   "source": [
    "file = \"C:/Users/UncleJay/Desktop/Meteo Data/rainfall.nc\""
   ]
  },
  {
   "cell_type": "code",
   "execution_count": null,
   "id": "c544876b",
   "metadata": {},
   "outputs": [],
   "source": [
    "ds_data = xr.open_dataset(file)"
   ]
  },
  {
   "cell_type": "code",
   "execution_count": null,
   "id": "495e29f1",
   "metadata": {},
   "outputs": [],
   "source": [
    "da_RR = ds_data.pr.sel(time=slice('2000','2014')) * 86400"
   ]
  },
  {
   "cell_type": "markdown",
   "id": "c407728b",
   "metadata": {},
   "source": [
    "# Criteria for identifying a Dry Spell\n",
    "\n",
    "- Rainfall accummulated within a window must be below the window size\n",
    "- No wet spell identified (no RR >= 1mm)\n"
   ]
  },
  {
   "cell_type": "code",
   "execution_count": null,
   "id": "1f7ea947",
   "metadata": {},
   "outputs": [],
   "source": [
    "def dry_spell(data, window=5, Rday_thresh=1, dim='time'):\n",
    "    rolling_sums = da_RR.rolling( time = window ).sum( )\n",
    "    dry_day_count = da_RR.where( \n",
    "        da_RR < 1 ).rolling( \n",
    "        time = window ).count()\n",
    "\n",
    "    spells = da_RR.where((rolling_sums<window) & (dry_day_count==window))\n",
    "\n",
    "    \n",
    "    return spells"
   ]
  },
  {
   "cell_type": "code",
   "execution_count": null,
   "id": "97d9bdb4",
   "metadata": {},
   "outputs": [],
   "source": [
    "spells_5 = dry_spell(da_RR, window=5, Rday_thresh=1, dim='time')\n",
    "spells_10 = dry_spell(da_RR, window=10, Rday_thresh=1, dim='time')\n",
    "\n",
    "\n",
    "\n",
    "#spells.groupby('time.year').count('time').mean('year').plot(vmax=365)"
   ]
  }
 ],
 "metadata": {
  "kernelspec": {
   "display_name": "Python 3 (ipykernel)",
   "language": "python",
   "name": "python3"
  },
  "language_info": {
   "codemirror_mode": {
    "name": "ipython",
    "version": 3
   },
   "file_extension": ".py",
   "mimetype": "text/x-python",
   "name": "python",
   "nbconvert_exporter": "python",
   "pygments_lexer": "ipython3",
   "version": "3.8.12"
  }
 },
 "nbformat": 4,
 "nbformat_minor": 5
}
